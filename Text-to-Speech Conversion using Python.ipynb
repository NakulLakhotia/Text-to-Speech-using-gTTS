{
 "cells": [
  {
   "cell_type": "markdown",
   "metadata": {},
   "source": [
    "## Text-to-Speech Conversion "
   ]
  },
  {
   "cell_type": "code",
   "execution_count": 1,
   "metadata": {},
   "outputs": [],
   "source": [
    "#import libraries \n",
    "import os\n",
    "# gTTS (Google Text-to-Speech), a Python library and CLI tool to interface with Google Translate's text-to-speech API.\n",
    "from gtts import gTTS"
   ]
  },
  {
   "cell_type": "markdown",
   "metadata": {},
   "source": [
    "### With English Sample Text"
   ]
  },
  {
   "cell_type": "code",
   "execution_count": 2,
   "metadata": {},
   "outputs": [],
   "source": [
    "# converting text sample to audio\n",
    "text='Hello ,I hope you are doing well , Are you staying indoors ? Stay inside and stay safe'"
   ]
  },
  {
   "cell_type": "code",
   "execution_count": 3,
   "metadata": {},
   "outputs": [],
   "source": [
    "# using English language as output\n",
    "language = 'en' #english\n",
    "speech = gTTS(text = text, lang = language, slow = False)"
   ]
  },
  {
   "cell_type": "code",
   "execution_count": 4,
   "metadata": {},
   "outputs": [
    {
     "data": {
      "text/plain": [
       "0"
      ]
     },
     "execution_count": 4,
     "metadata": {},
     "output_type": "execute_result"
    }
   ],
   "source": [
    "# saving the audio file in mp3 format\n",
    "speech.save('english_sample.mp3')\n",
    "#to play string in wav\n",
    "os.system('english_sample.mp3')"
   ]
  },
  {
   "cell_type": "markdown",
   "metadata": {},
   "source": [
    "### With a txt file"
   ]
  },
  {
   "cell_type": "code",
   "execution_count": 5,
   "metadata": {},
   "outputs": [
    {
     "name": "stdout",
     "output_type": "stream",
     "text": [
      "If Microsoft or another company buys TikTok before President Trump bans the Chinese-owned video app on national security grounds, it will acquire a giant community of devoted fans and a lucrative platform for selling ads.\n",
      "\n",
      "It might be buying something else, too: a big population of users ages 14 and under. The minimum age for using TikTok is 13.\n",
      "\n",
      "In July, TikTok classified more than a third of its 49 million daily users in the United States as being 14 years old or younger, according to internal company data and documents that were reviewed by The New York Times. While some of those users are likely to be 13 or 14, one former employee said TikTok workers had previously pointed out videos from children who appeared to be even younger that were allowed to remain online for weeks.\n"
     ]
    }
   ],
   "source": [
    "fi=open('news.txt')\n",
    "text=fi.read()\n",
    "print(text)"
   ]
  },
  {
   "cell_type": "code",
   "execution_count": 6,
   "metadata": {},
   "outputs": [],
   "source": [
    "# using English language as output\n",
    "language = 'en' #english\n",
    "speech = gTTS(text = text, lang = language, slow = False)"
   ]
  },
  {
   "cell_type": "code",
   "execution_count": 7,
   "metadata": {},
   "outputs": [
    {
     "data": {
      "text/plain": [
       "0"
      ]
     },
     "execution_count": 7,
     "metadata": {},
     "output_type": "execute_result"
    }
   ],
   "source": [
    "# saving the audio file in mp3 format\n",
    "speech.save('news.mp3')\n",
    "#to play string in wav\n",
    "os.system('news.mp3')"
   ]
  },
  {
   "cell_type": "markdown",
   "metadata": {},
   "source": [
    "### Using Different Language"
   ]
  },
  {
   "cell_type": "code",
   "execution_count": 9,
   "metadata": {},
   "outputs": [
    {
     "data": {
      "text/plain": [
       "0"
      ]
     },
     "execution_count": 9,
     "metadata": {},
     "output_type": "execute_result"
    }
   ],
   "source": [
    "text='हेलो आप कैसे है| क्या आप अपना ख्याल रख रहे है | घर के अंदर ही रहे और अपने सेहत का ख्याल रखे '\n",
    "#in Hindi\n",
    "language = 'hi' #hindi\n",
    "speech = gTTS(text = text, lang = language, slow = False)\n",
    "\n",
    "speech.save('hindi_audio.mp3')\n",
    "#to play string in wav\n",
    "os.system('start hindi_audio.mp3')"
   ]
  },
  {
   "cell_type": "markdown",
   "metadata": {},
   "source": [
    "### Using English-India as Language"
   ]
  },
  {
   "cell_type": "code",
   "execution_count": 10,
   "metadata": {},
   "outputs": [
    {
     "data": {
      "text/plain": [
       "0"
      ]
     },
     "execution_count": 10,
     "metadata": {},
     "output_type": "execute_result"
    }
   ],
   "source": [
    "# converting text sample to audio\n",
    "text='Hello ,I hope you are doing well , Are you staying indoors ? Stay inside and stay safe'\n",
    "# using English language as output\n",
    "language = 'en-in' \n",
    "speech = gTTS(text = text, lang = language, slow = False)\n",
    "speech.save('EnglishIN_audio.mp3')\n",
    "#to play string in wav\n",
    "os.system('start EnglishIN_audio.mp3')"
   ]
  },
  {
   "cell_type": "code",
   "execution_count": null,
   "metadata": {},
   "outputs": [],
   "source": [
    "# Extra Languages Supported \n",
    "\n",
    "\n",
    "        # Chinese\n",
    "        'zh-cn': 'Chinese (Mandarin/China)',\n",
    "        'zh-tw': 'Chinese (Mandarin/Taiwan)',\n",
    "        # English\n",
    "        'en-us': 'English (US)',\n",
    "        'en-ca': 'English (Canada)',\n",
    "        'en-uk': 'English (UK)',\n",
    "        'en-gb': 'English (UK)',\n",
    "        'en-au': 'English (Australia)',\n",
    "        'en-gh': 'English (Ghana)',\n",
    "        'en-in': 'English (India)',\n",
    "        'en-ie': 'English (Ireland)',\n",
    "        'en-nz': 'English (New Zealand)',\n",
    "        'en-ng': 'English (Nigeria)',\n",
    "        'en-ph': 'English (Philippines)',\n",
    "        'en-za': 'English (South Africa)',\n",
    "        'en-tz': 'English (Tanzania)',\n",
    "        # French\n",
    "        'fr-ca': 'French (Canada)',\n",
    "        'fr-fr': 'French (France)',\n",
    "        # Portuguese\n",
    "        'pt-br': 'Portuguese (Brazil)',\n",
    "        'pt-pt': 'Portuguese (Portugal)',\n",
    "        # Spanish\n",
    "        'es-es': 'Spanish (Spain)',\n",
    "        'es-us': 'Spanish (United States)'"
   ]
  }
 ],
 "metadata": {
  "kernelspec": {
   "display_name": "Python 3",
   "language": "python",
   "name": "python3"
  },
  "language_info": {
   "codemirror_mode": {
    "name": "ipython",
    "version": 3
   },
   "file_extension": ".py",
   "mimetype": "text/x-python",
   "name": "python",
   "nbconvert_exporter": "python",
   "pygments_lexer": "ipython3",
   "version": "3.7.3"
  }
 },
 "nbformat": 4,
 "nbformat_minor": 2
}
